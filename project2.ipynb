{
 "cells": [
  {
   "cell_type": "markdown",
   "metadata": {},
   "source": [
    "# Importing Libraries"
   ]
  },
  {
   "cell_type": "code",
   "execution_count": 1,
   "metadata": {
    "_cell_guid": "b1076dfc-b9ad-4769-8c92-a6c4dae69d19",
    "_uuid": "8f2839f25d086af736a60e9eeb907d3b93b6e0e5",
    "execution": {
     "iopub.execute_input": "2022-11-24T12:17:40.871430Z",
     "iopub.status.busy": "2022-11-24T12:17:40.871080Z",
     "iopub.status.idle": "2022-11-24T12:17:40.878075Z",
     "shell.execute_reply": "2022-11-24T12:17:40.877461Z",
     "shell.execute_reply.started": "2022-11-24T12:17:40.871391Z"
    }
   },
   "outputs": [],
   "source": [
    "import numpy as np\n",
    "import pandas as pd\n",
    "from pathlib import Path\n",
    "import os.path\n",
    "import os\n",
    "\n",
    "from sklearn.model_selection import train_test_split\n",
    "\n",
    "import tensorflow as tf\n",
    "import matplotlib.pyplot as plt\n",
    "\n",
    "from tensorflow import keras\n",
    "from tensorflow.keras.models import Sequential,load_model,Model\n",
    "from tensorflow.keras.layers import Conv2D,MaxPool2D,AveragePooling2D,Dense,Flatten,ZeroPadding2D,BatchNormalization,Activation,Add,Input,Dropout,GlobalAveragePooling2D\n",
    "from tensorflow.keras.optimizers import SGD\n",
    "from tensorflow.keras.initializers import glorot_uniform\n",
    "from tensorflow.keras.preprocessing.image import ImageDataGenerator\n",
    "from tensorflow.keras.callbacks import ModelCheckpoint,EarlyStopping,ReduceLROnPlateau"
   ]
  },
  {
   "cell_type": "markdown",
   "metadata": {},
   "source": [
    "## Setting up the data paths"
   ]
  },
  {
   "cell_type": "code",
   "execution_count": 4,
   "metadata": {
    "execution": {
     "iopub.execute_input": "2022-11-24T12:17:41.013371Z",
     "iopub.status.busy": "2022-11-24T12:17:41.013043Z",
     "iopub.status.idle": "2022-11-24T12:17:41.027795Z",
     "shell.execute_reply": "2022-11-24T12:17:41.027033Z",
     "shell.execute_reply.started": "2022-11-24T12:17:41.013307Z"
    }
   },
   "outputs": [],
   "source": [
    "data_dir = \"C:/Users/krish/Downloads/spMohanty PlantVillage-Dataset master data_distribution_for_SVM\"\n",
    "train_dir = data_dir + \"/train\"\n",
    "valid_dir = data_dir + \"/valid\"\n",
    "diseases = os.listdir(train_dir)"
   ]
  },
  {
   "cell_type": "markdown",
   "metadata": {},
   "source": [
    "## Importing the images in 224X224 Shape and 32 batch"
   ]
  },
  {
   "cell_type": "code",
   "execution_count": 20,
   "metadata": {
    "execution": {
     "iopub.execute_input": "2022-11-24T12:24:39.206361Z",
     "iopub.status.busy": "2022-11-24T12:24:39.205093Z",
     "iopub.status.idle": "2022-11-24T12:24:39.250491Z",
     "shell.execute_reply": "2022-11-24T12:24:39.249122Z",
     "shell.execute_reply.started": "2022-11-24T12:24:39.206284Z"
    }
   },
   "outputs": [
    {
     "ename": "TypeError",
     "evalue": "flow_from_directory() got an unexpected keyword argument 'rescale'",
     "output_type": "error",
     "traceback": [
      "\u001b[0;31m---------------------------------------------------------------------------\u001b[0m",
      "\u001b[0;31mTypeError\u001b[0m                                 Traceback (most recent call last)",
      "\u001b[0;32m/tmp/ipykernel_20/606864040.py\u001b[0m in \u001b[0;36m<module>\u001b[0;34m\u001b[0m\n\u001b[1;32m     11\u001b[0m \u001b[0;34m\u001b[0m\u001b[0m\n\u001b[1;32m     12\u001b[0m train_ds= train_datagen.flow_from_directory(directory=train_dir,batch_size=batch_size,target_size=(img_height,img_width),\n\u001b[0;32m---> 13\u001b[0;31m                                          color_mode='rgb',class_mode='categorical',seed=369,rescale=1./255)\n\u001b[0m\u001b[1;32m     14\u001b[0m \u001b[0;34m\u001b[0m\u001b[0m\n\u001b[1;32m     15\u001b[0m \u001b[0mval_ds\u001b[0m\u001b[0;34m=\u001b[0m\u001b[0mval_datagen\u001b[0m\u001b[0;34m.\u001b[0m\u001b[0mflow_from_directory\u001b[0m\u001b[0;34m(\u001b[0m\u001b[0mdirectory\u001b[0m\u001b[0;34m=\u001b[0m\u001b[0mvalid_dir\u001b[0m\u001b[0;34m,\u001b[0m\u001b[0mbatch_size\u001b[0m\u001b[0;34m=\u001b[0m\u001b[0;36m32\u001b[0m\u001b[0;34m,\u001b[0m\u001b[0mtarget_size\u001b[0m\u001b[0;34m=\u001b[0m\u001b[0;34m(\u001b[0m\u001b[0mimg_height\u001b[0m\u001b[0;34m,\u001b[0m\u001b[0mimg_width\u001b[0m\u001b[0;34m)\u001b[0m\u001b[0;34m,\u001b[0m\u001b[0mcolor_mode\u001b[0m\u001b[0;34m=\u001b[0m\u001b[0;34m'rgb'\u001b[0m\u001b[0;34m,\u001b[0m\u001b[0mclass_mode\u001b[0m\u001b[0;34m=\u001b[0m\u001b[0;34m'categorical'\u001b[0m\u001b[0;34m)\u001b[0m\u001b[0;34m\u001b[0m\u001b[0;34m\u001b[0m\u001b[0m\n",
      "\u001b[0;31mTypeError\u001b[0m: flow_from_directory() got an unexpected keyword argument 'rescale'"
     ]
    }
   ],
   "source": [
    "batch_size = 32\n",
    "img_height = 224\n",
    "img_width = 224\n",
    "\n",
    "#Image augmentation\n",
    "train_datagen= ImageDataGenerator(shear_range=0.2,zoom_range=0.2,horizontal_flip=False,vertical_flip=False\n",
    "                                  ,fill_mode='nearest',width_shift_range=0.2,height_shift_range=0.2)\n",
    "\n",
    "val_datagen=ImageDataGenerator()\n",
    "\n",
    "\n",
    "train_ds= train_datagen.flow_from_directory(directory=train_dir,batch_size=batch_size,target_size=(img_height,img_width),\n",
    "                                         color_mode='rgb',class_mode='categorical',seed=369)\n",
    "\n",
    "val_ds=val_datagen.flow_from_directory(directory=valid_dir,batch_size=32,target_size=(img_height,img_width),color_mode='rgb',class_mode='categorical')\n"
   ]
  },
  {
   "cell_type": "markdown",
   "metadata": {},
   "source": [
    "## Models Compilation and Training"
   ]
  },
  {
   "cell_type": "markdown",
   "metadata": {},
   "source": [
    "### Importing ResNet50"
   ]
  },
  {
   "cell_type": "code",
   "execution_count": 5,
   "metadata": {
    "execution": {
     "iopub.execute_input": "2022-11-24T12:18:38.909970Z",
     "iopub.status.busy": "2022-11-24T12:18:38.909665Z",
     "iopub.status.idle": "2022-11-24T12:18:38.914574Z",
     "shell.execute_reply": "2022-11-24T12:18:38.913735Z",
     "shell.execute_reply.started": "2022-11-24T12:18:38.909940Z"
    }
   },
   "outputs": [],
   "source": [
    "from tensorflow.keras.applications import ResNet50\n",
    "from tensorflow.keras.applications.resnet50 import preprocess_input"
   ]
  },
  {
   "cell_type": "code",
   "execution_count": 6,
   "metadata": {
    "execution": {
     "iopub.execute_input": "2022-11-24T12:18:40.242911Z",
     "iopub.status.busy": "2022-11-24T12:18:40.242634Z",
     "iopub.status.idle": "2022-11-24T12:18:42.765901Z",
     "shell.execute_reply": "2022-11-24T12:18:42.764887Z",
     "shell.execute_reply.started": "2022-11-24T12:18:40.242884Z"
    }
   },
   "outputs": [],
   "source": [
    "# Setting up the base model\n",
    "base_model_tf=ResNet50(include_top=False,weights='imagenet',input_shape=(224,224,3),classes=38)"
   ]
  },
  {
   "cell_type": "markdown",
   "metadata": {},
   "source": [
    "## Customizing the model for Our Input"
   ]
  },
  {
   "cell_type": "code",
   "execution_count": 7,
   "metadata": {
    "execution": {
     "iopub.execute_input": "2022-11-24T12:18:45.517083Z",
     "iopub.status.busy": "2022-11-24T12:18:45.516742Z",
     "iopub.status.idle": "2022-11-24T12:18:46.128863Z",
     "shell.execute_reply": "2022-11-24T12:18:46.127380Z",
     "shell.execute_reply.started": "2022-11-24T12:18:45.517052Z"
    }
   },
   "outputs": [
    {
     "name": "stdout",
     "output_type": "stream",
     "text": [
      "Model: \"model\"\n",
      "_________________________________________________________________\n",
      "Layer (type)                 Output Shape              Param #   \n",
      "=================================================================\n",
      "input_2 (InputLayer)         [(None, 224, 224, 3)]     0         \n",
      "_________________________________________________________________\n",
      "tf.cast (TFOpLambda)         (None, 224, 224, 3)       0         \n",
      "_________________________________________________________________\n",
      "tf.__operators__.getitem (Sl (None, 224, 224, 3)       0         \n",
      "_________________________________________________________________\n",
      "tf.nn.bias_add (TFOpLambda)  (None, 224, 224, 3)       0         \n",
      "_________________________________________________________________\n",
      "resnet50 (Functional)        (None, 7, 7, 2048)        23587712  \n",
      "_________________________________________________________________\n",
      "global_average_pooling2d (Gl (None, 2048)              0         \n",
      "_________________________________________________________________\n",
      "dense (Dense)                (None, 128)               262272    \n",
      "_________________________________________________________________\n",
      "dense_1 (Dense)              (None, 64)                8256      \n",
      "_________________________________________________________________\n",
      "dense_2 (Dense)              (None, 38)                2470      \n",
      "=================================================================\n",
      "Total params: 23,860,710\n",
      "Trainable params: 272,998\n",
      "Non-trainable params: 23,587,712\n",
      "_________________________________________________________________\n"
     ]
    }
   ],
   "source": [
    "#Model building\n",
    "base_model_tf.trainable=False\n",
    "\n",
    "pt=Input(shape=(224,224,3))\n",
    "func=tf.cast(pt,tf.float32)\n",
    "x=preprocess_input(func) #This function used to zero-center each color channel wrt Imagenet dataset\n",
    "model_resnet=base_model_tf(x,training=False)\n",
    "model_resnet=GlobalAveragePooling2D()(model_resnet)\n",
    "model_resnet=Dense(128,activation='relu')(model_resnet)\n",
    "model_resnet=Dense(64,activation='relu')(model_resnet)\n",
    "model_resnet=Dense(38,activation='softmax')(model_resnet)\n",
    "\n",
    "\n",
    "model_main=Model(inputs=pt,outputs=model_resnet)\n",
    "model_main.summary()"
   ]
  },
  {
   "cell_type": "markdown",
   "metadata": {},
   "source": [
    "## Setting up Callbacks for model fiting"
   ]
  },
  {
   "cell_type": "code",
   "execution_count": 8,
   "metadata": {
    "execution": {
     "iopub.execute_input": "2022-11-24T12:18:48.929361Z",
     "iopub.status.busy": "2022-11-24T12:18:48.929044Z",
     "iopub.status.idle": "2022-11-24T12:18:48.936442Z",
     "shell.execute_reply": "2022-11-24T12:18:48.935197Z",
     "shell.execute_reply.started": "2022-11-24T12:18:48.929318Z"
    }
   },
   "outputs": [],
   "source": [
    "#CallBacks\n",
    "es=EarlyStopping(monitor='val_accuracy',verbose=1,patience=7,mode='auto') # It will stop the training of the model when it encounters the best weights\n",
    "mc=ModelCheckpoint(filepath='/content',monitor='val_accuracy',verbose=1,save_best_only=True) # Creates Model checkpoints regularly\n",
    "lr=ReduceLROnPlateau(monitor='val_accuracy',verbose=1,patience=5,min_lr=0.001) # Decreseas the Learning Rate during the training"
   ]
  },
  {
   "cell_type": "markdown",
   "metadata": {},
   "source": [
    "### Compiling the model"
   ]
  },
  {
   "cell_type": "code",
   "execution_count": 9,
   "metadata": {
    "execution": {
     "iopub.execute_input": "2022-11-24T12:18:50.025100Z",
     "iopub.status.busy": "2022-11-24T12:18:50.024810Z",
     "iopub.status.idle": "2022-11-24T12:18:50.042763Z",
     "shell.execute_reply": "2022-11-24T12:18:50.041932Z",
     "shell.execute_reply.started": "2022-11-24T12:18:50.025074Z"
    }
   },
   "outputs": [],
   "source": [
    "model_main.compile(optimizer='Adam',loss='categorical_crossentropy',metrics=['accuracy'])"
   ]
  },
  {
   "cell_type": "markdown",
   "metadata": {},
   "source": [
    "### Fiting or Training the Resnet50 Model"
   ]
  },
  {
   "cell_type": "code",
   "execution_count": 10,
   "metadata": {
    "execution": {
     "iopub.execute_input": "2022-11-24T12:18:52.344297Z",
     "iopub.status.busy": "2022-11-24T12:18:52.343519Z",
     "iopub.status.idle": "2022-11-24T12:19:48.158049Z",
     "shell.execute_reply": "2022-11-24T12:19:48.156184Z",
     "shell.execute_reply.started": "2022-11-24T12:18:52.344262Z"
    }
   },
   "outputs": [
    {
     "ename": "NameError",
     "evalue": "name 'train_ds' is not defined",
     "output_type": "error",
     "traceback": [
      "\u001b[1;31m---------------------------------------------------------------------------\u001b[0m",
      "\u001b[1;31mNameError\u001b[0m                                 Traceback (most recent call last)",
      "\u001b[1;32m<ipython-input-10-8e064b310b1a>\u001b[0m in \u001b[0;36m<module>\u001b[1;34m\u001b[0m\n\u001b[0;32m      2\u001b[0m \u001b[1;33m\u001b[0m\u001b[0m\n\u001b[0;32m      3\u001b[0m \u001b[1;31m#Training\u001b[0m\u001b[1;33m\u001b[0m\u001b[1;33m\u001b[0m\u001b[1;33m\u001b[0m\u001b[0m\n\u001b[1;32m----> 4\u001b[1;33m \u001b[0mmodel_main\u001b[0m\u001b[1;33m.\u001b[0m\u001b[0mfit\u001b[0m\u001b[1;33m(\u001b[0m\u001b[0mtrain_ds\u001b[0m\u001b[1;33m,\u001b[0m\u001b[0mvalidation_data\u001b[0m\u001b[1;33m=\u001b[0m\u001b[0mval_ds\u001b[0m\u001b[1;33m,\u001b[0m\u001b[0mepochs\u001b[0m\u001b[1;33m=\u001b[0m\u001b[1;36m30\u001b[0m\u001b[1;33m,\u001b[0m\u001b[0msteps_per_epoch\u001b[0m\u001b[1;33m=\u001b[0m\u001b[1;36m200\u001b[0m\u001b[1;33m,\u001b[0m\u001b[0mverbose\u001b[0m\u001b[1;33m=\u001b[0m\u001b[1;36m1\u001b[0m\u001b[1;33m,\u001b[0m\u001b[0mcallbacks\u001b[0m\u001b[1;33m=\u001b[0m\u001b[1;33m[\u001b[0m\u001b[0mmc\u001b[0m\u001b[1;33m,\u001b[0m\u001b[0mes\u001b[0m\u001b[1;33m,\u001b[0m\u001b[0mlr\u001b[0m\u001b[1;33m]\u001b[0m\u001b[1;33m)\u001b[0m\u001b[1;33m\u001b[0m\u001b[1;33m\u001b[0m\u001b[0m\n\u001b[0m",
      "\u001b[1;31mNameError\u001b[0m: name 'train_ds' is not defined"
     ]
    }
   ],
   "source": [
    "tf.config.run_functions_eagerly(True)\n",
    "\n",
    "#Training\n",
    "model_main.fit(train_ds,validation_data=val_ds,epochs=30,steps_per_epoch=200,verbose=1,callbacks=[mc,es,lr])"
   ]
  },
  {
   "cell_type": "code",
   "execution_count": null,
   "metadata": {
    "execution": {
     "iopub.status.busy": "2022-11-24T12:18:32.327574Z",
     "iopub.status.idle": "2022-11-24T12:18:32.327885Z",
     "shell.execute_reply": "2022-11-24T12:18:32.327741Z",
     "shell.execute_reply.started": "2022-11-24T12:18:32.327726Z"
    }
   },
   "outputs": [],
   "source": [
    "# Saving the model after training\n",
    "model_main.save(\"RESNET50_PLANT_DISEASE.h5\")"
   ]
  },
  {
   "cell_type": "markdown",
   "metadata": {},
   "source": [
    "## Loading MobileNetV2 as Base Model"
   ]
  },
  {
   "cell_type": "code",
   "execution_count": null,
   "metadata": {
    "execution": {
     "iopub.status.busy": "2022-11-24T12:18:32.329144Z",
     "iopub.status.idle": "2022-11-24T12:18:32.329482Z",
     "shell.execute_reply": "2022-11-24T12:18:32.329324Z",
     "shell.execute_reply.started": "2022-11-24T12:18:32.329308Z"
    }
   },
   "outputs": [],
   "source": [
    "pretrained_model = tf.keras.applications.MobileNetV2(\n",
    "    input_shape=(224, 224, 3),\n",
    "    include_top=False,\n",
    "    weights='imagenet',\n",
    "    pooling='avg'\n",
    ")\n",
    "\n",
    "pretrained_model.trainable = False"
   ]
  },
  {
   "cell_type": "markdown",
   "metadata": {},
   "source": [
    "### Customizing the MobileNetV2 model for our input compiling the MobileNetV2 model and fiting or training the MobileNetV2 model"
   ]
  },
  {
   "cell_type": "code",
   "execution_count": null,
   "metadata": {
    "execution": {
     "iopub.status.busy": "2022-11-24T12:18:32.330968Z",
     "iopub.status.idle": "2022-11-24T12:18:32.331322Z",
     "shell.execute_reply": "2022-11-24T12:18:32.331156Z",
     "shell.execute_reply.started": "2022-11-24T12:18:32.331129Z"
    }
   },
   "outputs": [],
   "source": [
    "# Setting up the inputs\n",
    "inputs = pretrained_model.input\n",
    "\n",
    "# Making a Neural net for using the pretrained model and matching the input and output layer of the pretrained model with our data\n",
    "x = tf.keras.layers.Dense(128, activation='relu')(pretrained_model.output)\n",
    "x = tf.keras.layers.Dense(128, activation='relu')(x)\n",
    "\n",
    "outputs = tf.keras.layers.Dense(38, activation='softmax')(x)\n",
    "\n",
    "\n",
    "model = tf.keras.Model(inputs=inputs, outputs=outputs)\n",
    "\n",
    "\n",
    "# Compiling the Custom Model\n",
    "model.compile(\n",
    "    optimizer='adam',\n",
    "    loss='categorical_crossentropy',\n",
    "    metrics=['accuracy']\n",
    ")\n",
    "\n",
    "# Finally Training the Model\n",
    "history = model.fit(\n",
    "    train_ds,\n",
    "    validation_data=val_ds,\n",
    "    epochs=100,\n",
    "    callbacks=[\n",
    "        tf.keras.callbacks.EarlyStopping(\n",
    "            monitor='val_loss',\n",
    "            patience=3,\n",
    "            restore_best_weights=True\n",
    "        )\n",
    "    ]\n",
    ")"
   ]
  },
  {
   "cell_type": "markdown",
   "metadata": {},
   "source": [
    "# Results"
   ]
  },
  {
   "cell_type": "markdown",
   "metadata": {},
   "source": [
    "## ResNet50 Results"
   ]
  },
  {
   "cell_type": "code",
   "execution_count": null,
   "metadata": {
    "execution": {
     "iopub.status.busy": "2022-11-24T12:18:32.332864Z",
     "iopub.status.idle": "2022-11-24T12:18:32.333407Z",
     "shell.execute_reply": "2022-11-24T12:18:32.333228Z",
     "shell.execute_reply.started": "2022-11-24T12:18:32.333208Z"
    }
   },
   "outputs": [],
   "source": [
    "plt.figure(figsize=(10,5))\n",
    "plt.plot(model_main.history.history['loss'],color='b',label='Training loss')\n",
    "plt.plot(model_main.history.history['val_loss'],color='r',label='Validation loss')\n",
    "plt.xlabel(\"epochs\")\n",
    "plt.ylabel(\"loss_value\")\n",
    "plt.title(\"loss\")"
   ]
  },
  {
   "cell_type": "code",
   "execution_count": null,
   "metadata": {
    "execution": {
     "iopub.status.busy": "2022-11-24T12:18:32.334428Z",
     "iopub.status.idle": "2022-11-24T12:18:32.334988Z",
     "shell.execute_reply": "2022-11-24T12:18:32.334804Z",
     "shell.execute_reply.started": "2022-11-24T12:18:32.334785Z"
    }
   },
   "outputs": [],
   "source": [
    "plt.figure(figsize=(10,5))\n",
    "plt.plot(model_main.history.history['accuracy'],color='b',label='Training accuracy')\n",
    "plt.plot(model_main.history.history['val_accuracy'],color='r',label='Validation accsuracy')\n",
    "plt.xlabel(\"epochs\")\n",
    "plt.ylabel(\"accuracy\")\n",
    "plt.title(\"accuracy graph\")"
   ]
  },
  {
   "cell_type": "markdown",
   "metadata": {},
   "source": [
    "## MobileNetV2 Results"
   ]
  },
  {
   "cell_type": "code",
   "execution_count": null,
   "metadata": {
    "execution": {
     "iopub.status.busy": "2022-11-24T12:18:32.336020Z",
     "iopub.status.idle": "2022-11-24T12:18:32.336613Z",
     "shell.execute_reply": "2022-11-24T12:18:32.336410Z",
     "shell.execute_reply.started": "2022-11-24T12:18:32.336389Z"
    }
   },
   "outputs": [],
   "source": [
    "plt.figure(figsize=(10,5))\n",
    "plt.plot(history.history['loss'],color='b',label='Training loss')\n",
    "plt.plot(history.history['val_loss'],color='r',label='Validation loss')\n",
    "plt.xlabel(\"epochs\")\n",
    "plt.ylabel(\"loss_value\")\n",
    "plt.title(\"loss\")"
   ]
  },
  {
   "cell_type": "code",
   "execution_count": null,
   "metadata": {
    "execution": {
     "iopub.status.busy": "2022-11-24T12:18:32.337659Z",
     "iopub.status.idle": "2022-11-24T12:18:32.338193Z",
     "shell.execute_reply": "2022-11-24T12:18:32.338025Z",
     "shell.execute_reply.started": "2022-11-24T12:18:32.338006Z"
    }
   },
   "outputs": [],
   "source": [
    "plt.figure(figsize=(10,5))\n",
    "plt.plot(history.history['accuracy'],color='b',label='Training accuracy')\n",
    "plt.plot(history.history['val_accuracy'],color='r',label='Validation accsuracy')\n",
    "plt.xlabel(\"epochs\")\n",
    "plt.ylabel(\"accuracy\")\n",
    "plt.title(\"accuracy graph\")"
   ]
  }
 ],
 "metadata": {
  "kernelspec": {
   "display_name": "Python 3",
   "language": "python",
   "name": "python3"
  },
  "language_info": {
   "codemirror_mode": {
    "name": "ipython",
    "version": 3
   },
   "file_extension": ".py",
   "mimetype": "text/x-python",
   "name": "python",
   "nbconvert_exporter": "python",
   "pygments_lexer": "ipython3",
   "version": "3.6.10"
  }
 },
 "nbformat": 4,
 "nbformat_minor": 4
}
